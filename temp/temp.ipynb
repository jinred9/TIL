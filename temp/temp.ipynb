{
 "cells": [
  {
   "cell_type": "code",
   "execution_count": 9,
   "metadata": {},
   "outputs": [
    {
     "name": "stdout",
     "output_type": "stream",
     "text": [
      "*** No CODEPAGE record, no encoding_override: will use 'iso-8859-1'\n"
     ]
    },
    {
     "ename": "AssertionError",
     "evalue": "",
     "output_type": "error",
     "traceback": [
      "\u001b[1;31m---------------------------------------------------------------------------\u001b[0m",
      "\u001b[1;31mIndexError\u001b[0m                                Traceback (most recent call last)",
      "File \u001b[1;32mc:\\Users\\jinre\\AppData\\Local\\Programs\\Python\\Python39\\lib\\site-packages\\xlrd\\sheet.py:721\u001b[0m, in \u001b[0;36mSheet.put_cell_unragged\u001b[1;34m(self, rowx, colx, ctype, value, xf_index)\u001b[0m\n\u001b[0;32m    720\u001b[0m \u001b[39mtry\u001b[39;00m:\n\u001b[1;32m--> 721\u001b[0m     \u001b[39mself\u001b[39;49m\u001b[39m.\u001b[39;49m_cell_types[rowx][colx] \u001b[39m=\u001b[39m ctype\n\u001b[0;32m    722\u001b[0m     \u001b[39mself\u001b[39m\u001b[39m.\u001b[39m_cell_values[rowx][colx] \u001b[39m=\u001b[39m value\n",
      "\u001b[1;31mIndexError\u001b[0m: list index out of range",
      "\nDuring handling of the above exception, another exception occurred:\n",
      "\u001b[1;31mAssertionError\u001b[0m                            Traceback (most recent call last)",
      "Cell \u001b[1;32mIn[9], line 25\u001b[0m\n\u001b[0;32m     22\u001b[0m             sheet1\u001b[39m.\u001b[39mcell(row\u001b[39m=\u001b[39mrow, column\u001b[39m=\u001b[39mcol)\u001b[39m.\u001b[39mvalue \u001b[39m=\u001b[39m sheet\u001b[39m.\u001b[39mcell_value(row, col)\n\u001b[0;32m     24\u001b[0m     \u001b[39mreturn\u001b[39;00m book1\n\u001b[1;32m---> 25\u001b[0m open_xls_as_xlsx(\u001b[39m'\u001b[39;49m\u001b[39mmin_1.xls\u001b[39;49m\u001b[39m'\u001b[39;49m)\n",
      "Cell \u001b[1;32mIn[9], line 7\u001b[0m, in \u001b[0;36mopen_xls_as_xlsx\u001b[1;34m(filename)\u001b[0m\n\u001b[0;32m      5\u001b[0m \u001b[39mdef\u001b[39;00m \u001b[39mopen_xls_as_xlsx\u001b[39m(filename):\n\u001b[0;32m      6\u001b[0m     \u001b[39m# first open using xlrd\u001b[39;00m\n\u001b[1;32m----> 7\u001b[0m     book \u001b[39m=\u001b[39m xlrd\u001b[39m.\u001b[39;49mopen_workbook(filename)\n\u001b[0;32m      8\u001b[0m     index \u001b[39m=\u001b[39m \u001b[39m0\u001b[39m\n\u001b[0;32m      9\u001b[0m     nrows, ncols \u001b[39m=\u001b[39m \u001b[39m0\u001b[39m, \u001b[39m0\u001b[39m\n",
      "File \u001b[1;32mc:\\Users\\jinre\\AppData\\Local\\Programs\\Python\\Python39\\lib\\site-packages\\xlrd\\__init__.py:172\u001b[0m, in \u001b[0;36mopen_workbook\u001b[1;34m(filename, logfile, verbosity, use_mmap, file_contents, encoding_override, formatting_info, on_demand, ragged_rows, ignore_workbook_corruption)\u001b[0m\n\u001b[0;32m    169\u001b[0m \u001b[39mif\u001b[39;00m file_format \u001b[39mand\u001b[39;00m file_format \u001b[39m!=\u001b[39m \u001b[39m'\u001b[39m\u001b[39mxls\u001b[39m\u001b[39m'\u001b[39m:\n\u001b[0;32m    170\u001b[0m     \u001b[39mraise\u001b[39;00m XLRDError(FILE_FORMAT_DESCRIPTIONS[file_format]\u001b[39m+\u001b[39m\u001b[39m'\u001b[39m\u001b[39m; not supported\u001b[39m\u001b[39m'\u001b[39m)\n\u001b[1;32m--> 172\u001b[0m bk \u001b[39m=\u001b[39m open_workbook_xls(\n\u001b[0;32m    173\u001b[0m     filename\u001b[39m=\u001b[39;49mfilename,\n\u001b[0;32m    174\u001b[0m     logfile\u001b[39m=\u001b[39;49mlogfile,\n\u001b[0;32m    175\u001b[0m     verbosity\u001b[39m=\u001b[39;49mverbosity,\n\u001b[0;32m    176\u001b[0m     use_mmap\u001b[39m=\u001b[39;49muse_mmap,\n\u001b[0;32m    177\u001b[0m     file_contents\u001b[39m=\u001b[39;49mfile_contents,\n\u001b[0;32m    178\u001b[0m     encoding_override\u001b[39m=\u001b[39;49mencoding_override,\n\u001b[0;32m    179\u001b[0m     formatting_info\u001b[39m=\u001b[39;49mformatting_info,\n\u001b[0;32m    180\u001b[0m     on_demand\u001b[39m=\u001b[39;49mon_demand,\n\u001b[0;32m    181\u001b[0m     ragged_rows\u001b[39m=\u001b[39;49mragged_rows,\n\u001b[0;32m    182\u001b[0m     ignore_workbook_corruption\u001b[39m=\u001b[39;49mignore_workbook_corruption,\n\u001b[0;32m    183\u001b[0m )\n\u001b[0;32m    185\u001b[0m \u001b[39mreturn\u001b[39;00m bk\n",
      "File \u001b[1;32mc:\\Users\\jinre\\AppData\\Local\\Programs\\Python\\Python39\\lib\\site-packages\\xlrd\\book.py:95\u001b[0m, in \u001b[0;36mopen_workbook_xls\u001b[1;34m(filename, logfile, verbosity, use_mmap, file_contents, encoding_override, formatting_info, on_demand, ragged_rows, ignore_workbook_corruption)\u001b[0m\n\u001b[0;32m     91\u001b[0m         fprintf(bk\u001b[39m.\u001b[39mlogfile,\n\u001b[0;32m     92\u001b[0m             \u001b[39m\"\u001b[39m\u001b[39m*** WARNING: on_demand is not supported for this Excel version.\u001b[39m\u001b[39m\\n\u001b[39;00m\u001b[39m\"\u001b[39m\n\u001b[0;32m     93\u001b[0m             \u001b[39m\"\u001b[39m\u001b[39m*** Setting on_demand to False.\u001b[39m\u001b[39m\\n\u001b[39;00m\u001b[39m\"\u001b[39m)\n\u001b[0;32m     94\u001b[0m         bk\u001b[39m.\u001b[39mon_demand \u001b[39m=\u001b[39m on_demand \u001b[39m=\u001b[39m \u001b[39mFalse\u001b[39;00m\n\u001b[1;32m---> 95\u001b[0m     bk\u001b[39m.\u001b[39;49mfake_globals_get_sheet()\n\u001b[0;32m     96\u001b[0m \u001b[39melif\u001b[39;00m biff_version \u001b[39m==\u001b[39m \u001b[39m45\u001b[39m:\n\u001b[0;32m     97\u001b[0m     \u001b[39m# worksheet(s) embedded in global stream\u001b[39;00m\n\u001b[0;32m     98\u001b[0m     bk\u001b[39m.\u001b[39mparse_globals()\n",
      "File \u001b[1;32mc:\\Users\\jinre\\AppData\\Local\\Programs\\Python\\Python39\\lib\\site-packages\\xlrd\\book.py:731\u001b[0m, in \u001b[0;36mBook.fake_globals_get_sheet\u001b[1;34m(self)\u001b[0m\n\u001b[0;32m    729\u001b[0m \u001b[39mself\u001b[39m\u001b[39m.\u001b[39m_sheet_visibility \u001b[39m=\u001b[39m [\u001b[39m0\u001b[39m] \u001b[39m# one sheet, visible\u001b[39;00m\n\u001b[0;32m    730\u001b[0m \u001b[39mself\u001b[39m\u001b[39m.\u001b[39m_sheet_list\u001b[39m.\u001b[39mappend(\u001b[39mNone\u001b[39;00m) \u001b[39m# get_sheet updates _sheet_list but needs a None beforehand\u001b[39;00m\n\u001b[1;32m--> 731\u001b[0m \u001b[39mself\u001b[39;49m\u001b[39m.\u001b[39;49mget_sheets()\n",
      "File \u001b[1;32mc:\\Users\\jinre\\AppData\\Local\\Programs\\Python\\Python39\\lib\\site-packages\\xlrd\\book.py:722\u001b[0m, in \u001b[0;36mBook.get_sheets\u001b[1;34m(self)\u001b[0m\n\u001b[0;32m    720\u001b[0m \u001b[39mfor\u001b[39;00m sheetno \u001b[39min\u001b[39;00m xrange(\u001b[39mlen\u001b[39m(\u001b[39mself\u001b[39m\u001b[39m.\u001b[39m_sheet_names)):\n\u001b[0;32m    721\u001b[0m     \u001b[39mif\u001b[39;00m DEBUG: \u001b[39mprint\u001b[39m(\u001b[39m\"\u001b[39m\u001b[39mGET_SHEETS: sheetno =\u001b[39m\u001b[39m\"\u001b[39m, sheetno, \u001b[39mself\u001b[39m\u001b[39m.\u001b[39m_sheet_names, \u001b[39mself\u001b[39m\u001b[39m.\u001b[39m_sh_abs_posn, file\u001b[39m=\u001b[39m\u001b[39mself\u001b[39m\u001b[39m.\u001b[39mlogfile)\n\u001b[1;32m--> 722\u001b[0m     \u001b[39mself\u001b[39;49m\u001b[39m.\u001b[39;49mget_sheet(sheetno)\n",
      "File \u001b[1;32mc:\\Users\\jinre\\AppData\\Local\\Programs\\Python\\Python39\\lib\\site-packages\\xlrd\\book.py:713\u001b[0m, in \u001b[0;36mBook.get_sheet\u001b[1;34m(self, sh_number, update_pos)\u001b[0m\n\u001b[0;32m    702\u001b[0m \u001b[39m# assert biff_version == self.biff_version ### FAILS\u001b[39;00m\n\u001b[0;32m    703\u001b[0m \u001b[39m# Have an example where book is v7 but sheet reports v8!!!\u001b[39;00m\n\u001b[0;32m    704\u001b[0m \u001b[39m# It appears to work OK if the sheet version is ignored.\u001b[39;00m\n\u001b[0;32m    705\u001b[0m \u001b[39m# Confirmed by Daniel Rentz: happens when Excel does \"save as\"\u001b[39;00m\n\u001b[0;32m    706\u001b[0m \u001b[39m# creating an old version file; ignore version details on sheet BOF.\u001b[39;00m\n\u001b[0;32m    707\u001b[0m sh \u001b[39m=\u001b[39m sheet\u001b[39m.\u001b[39mSheet(\n\u001b[0;32m    708\u001b[0m     \u001b[39mself\u001b[39m,\n\u001b[0;32m    709\u001b[0m     \u001b[39mself\u001b[39m\u001b[39m.\u001b[39m_position,\n\u001b[0;32m    710\u001b[0m     \u001b[39mself\u001b[39m\u001b[39m.\u001b[39m_sheet_names[sh_number],\n\u001b[0;32m    711\u001b[0m     sh_number,\n\u001b[0;32m    712\u001b[0m )\n\u001b[1;32m--> 713\u001b[0m sh\u001b[39m.\u001b[39;49mread(\u001b[39mself\u001b[39;49m)\n\u001b[0;32m    714\u001b[0m \u001b[39mself\u001b[39m\u001b[39m.\u001b[39m_sheet_list[sh_number] \u001b[39m=\u001b[39m sh\n\u001b[0;32m    715\u001b[0m \u001b[39mreturn\u001b[39;00m sh\n",
      "File \u001b[1;32mc:\\Users\\jinre\\AppData\\Local\\Programs\\Python\\Python39\\lib\\site-packages\\xlrd\\sheet.py:1388\u001b[0m, in \u001b[0;36mSheet.read\u001b[1;34m(self, bk)\u001b[0m\n\u001b[0;32m   1386\u001b[0m     rowx, colx, cell_attr \u001b[39m=\u001b[39m local_unpack(\u001b[39m'\u001b[39m\u001b[39m<HH3s\u001b[39m\u001b[39m'\u001b[39m, data[\u001b[39m0\u001b[39m:\u001b[39m7\u001b[39m])\n\u001b[0;32m   1387\u001b[0m     strg \u001b[39m=\u001b[39m unpack_string(data, \u001b[39m7\u001b[39m, bk\u001b[39m.\u001b[39mencoding \u001b[39mor\u001b[39;00m bk\u001b[39m.\u001b[39mderive_encoding(), lenlen\u001b[39m=\u001b[39m\u001b[39m1\u001b[39m)\n\u001b[1;32m-> 1388\u001b[0m     self_put_cell(rowx, colx, XL_CELL_TEXT, strg, \u001b[39mself\u001b[39;49m\u001b[39m.\u001b[39;49mfixed_BIFF2_xfindex(cell_attr, rowx, colx))\n\u001b[0;32m   1389\u001b[0m \u001b[39melif\u001b[39;00m rc \u001b[39m==\u001b[39m XL_BOOLERR_B2:\n\u001b[0;32m   1390\u001b[0m     rowx, colx, cell_attr, value, is_err \u001b[39m=\u001b[39m local_unpack(\u001b[39m'\u001b[39m\u001b[39m<HH3sBB\u001b[39m\u001b[39m'\u001b[39m, data)\n",
      "File \u001b[1;32mc:\\Users\\jinre\\AppData\\Local\\Programs\\Python\\Python39\\lib\\site-packages\\xlrd\\sheet.py:732\u001b[0m, in \u001b[0;36mSheet.put_cell_unragged\u001b[1;34m(self, rowx, colx, ctype, value, xf_index)\u001b[0m\n\u001b[0;32m    730\u001b[0m nc \u001b[39m=\u001b[39m colx \u001b[39m+\u001b[39m \u001b[39m1\u001b[39m\n\u001b[0;32m    731\u001b[0m \u001b[39massert\u001b[39;00m \u001b[39m1\u001b[39m \u001b[39m<\u001b[39m\u001b[39m=\u001b[39m nc \u001b[39m<\u001b[39m\u001b[39m=\u001b[39m \u001b[39mself\u001b[39m\u001b[39m.\u001b[39mutter_max_cols\n\u001b[1;32m--> 732\u001b[0m \u001b[39massert\u001b[39;00m \u001b[39m1\u001b[39m \u001b[39m<\u001b[39m\u001b[39m=\u001b[39m nr \u001b[39m<\u001b[39m\u001b[39m=\u001b[39m \u001b[39mself\u001b[39m\u001b[39m.\u001b[39mutter_max_rows\n\u001b[0;32m    733\u001b[0m \u001b[39mif\u001b[39;00m nc \u001b[39m>\u001b[39m \u001b[39mself\u001b[39m\u001b[39m.\u001b[39mncols:\n\u001b[0;32m    734\u001b[0m     \u001b[39mself\u001b[39m\u001b[39m.\u001b[39mncols \u001b[39m=\u001b[39m nc\n",
      "\u001b[1;31mAssertionError\u001b[0m: "
     ]
    }
   ],
   "source": [
    "import xlrd\n",
    "from openpyxl.workbook import Workbook\n",
    "from openpyxl.reader.excel import load_workbook, InvalidFileException\n",
    "\n",
    "def open_xls_as_xlsx(filename):\n",
    "    # first open using xlrd\n",
    "    book = xlrd.open_workbook(filename)\n",
    "    index = 0\n",
    "    nrows, ncols = 0, 0\n",
    "    while nrows * ncols == 0:\n",
    "        sheet = book.sheet_by_index(index)\n",
    "        nrows = sheet.nrows\n",
    "        ncols = sheet.ncols\n",
    "        index += 1\n",
    "\n",
    "    # prepare a xlsx sheet\n",
    "    book1 = Workbook()\n",
    "    sheet1 = book1.get_active_sheet()\n",
    "\n",
    "    for row in xrange(0, nrows):\n",
    "        for col in xrange(0, ncols):\n",
    "            sheet1.cell(row=row, column=col).value = sheet.cell_value(row, col)\n",
    "\n",
    "    return book1\n",
    "open_xls_as_xlsx('min_1.xls')"
   ]
  }
 ],
 "metadata": {
  "kernelspec": {
   "display_name": "Python 3",
   "language": "python",
   "name": "python3"
  },
  "language_info": {
   "codemirror_mode": {
    "name": "ipython",
    "version": 3
   },
   "file_extension": ".py",
   "mimetype": "text/x-python",
   "name": "python",
   "nbconvert_exporter": "python",
   "pygments_lexer": "ipython3",
   "version": "3.9.13"
  },
  "orig_nbformat": 4
 },
 "nbformat": 4,
 "nbformat_minor": 2
}
